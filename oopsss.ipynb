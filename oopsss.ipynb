{
 "cells": [
  {
   "cell_type": "code",
   "execution_count": 40,
   "metadata": {},
   "outputs": [
    {
     "name": "stdout",
     "output_type": "stream",
     "text": [
      "Hemanth 988758767 d550cdc4-4752-40b0-bed0-5ff13dc7ab7a 0\n",
      "1000\n",
      "500\n"
     ]
    }
   ],
   "source": [
    "class user:\n",
    "    def __init__(self):\n",
    "        pass\n",
    "\n",
    "\n",
    "class BankAccount:\n",
    "    def __init__(self, name, mobile_no):\n",
    "        self.name = name\n",
    "        self.mobile_number = mobile_no\n",
    "        self.generate_account_no()\n",
    "        self.balance = 0\n",
    "        \n",
    "    def generate_account_no(self):\n",
    "        import uuid\n",
    "        self.account_no = str(uuid.uuid4())\n",
    "\n",
    "    def deposit(self,amount):\n",
    "        self.balance += amount\n",
    "        \n",
    "    def withdraw(self,amount):\n",
    "        if amount > self.balance:\n",
    "            print(\"Insufficient amount\")\n",
    "        else:\n",
    "            self.balance -= amount\n",
    "        \n",
    "        \n",
    "        \n",
    "        \n",
    "        \n",
    "\n",
    "b=BankAccount(\"Hemanth\",\"988758767\")\n",
    "print(b.name,b.mobile_number,b.account_no,b.balance)\n",
    "\n",
    "b.deposit(1000)\n",
    "print(b.balance)\n",
    "b.withdraw(500)\n",
    "print(b.balance)"
   ]
  },
  {
   "cell_type": "code",
   "execution_count": null,
   "metadata": {},
   "outputs": [],
   "source": []
  }
 ],
 "metadata": {
  "kernelspec": {
   "display_name": "Python 3",
   "language": "python",
   "name": "python3"
  },
  "language_info": {
   "codemirror_mode": {
    "name": "ipython",
    "version": 3
   },
   "file_extension": ".py",
   "mimetype": "text/x-python",
   "name": "python",
   "nbconvert_exporter": "python",
   "pygments_lexer": "ipython3",
   "version": "3.6.8"
  }
 },
 "nbformat": 4,
 "nbformat_minor": 4
}
